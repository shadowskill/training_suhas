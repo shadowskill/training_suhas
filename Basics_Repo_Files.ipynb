{
  "nbformat": 4,
  "nbformat_minor": 0,
  "metadata": {
    "colab": {
      "name": "Basics Repo Files.ipynb",
      "provenance": [],
      "collapsed_sections": [],
      "mount_file_id": "1s5KIeDDPSJCxCFyqmallOwXxAyVI8V0c",
      "authorship_tag": "ABX9TyOjBbXUfIxzj866Ri00ZDoO"
    },
    "kernelspec": {
      "name": "python3",
      "display_name": "Python 3"
    },
    "language_info": {
      "name": "python"
    }
  },
  "cells": [
    {
      "cell_type": "code",
      "execution_count": null,
      "metadata": {
        "colab": {
          "base_uri": "https://localhost:8080/"
        },
        "id": "joCLbhFa9rqq",
        "outputId": "a7e01d76-057f-4087-bbc0-fbea9f1b49f1"
      },
      "outputs": [
        {
          "output_type": "stream",
          "name": "stdout",
          "text": [
            "Mounted at /content/gdrive/\n"
          ]
        }
      ],
      "source": [
        "import os # Import OS package (internal package) to operate on files\n",
        "from google.colab import drive # Import package to use Google Drive\n",
        "#drive.mount('/content/gdrive/') # Mount Google Drive\n",
        "# gdrive_datapath = \"/content/gdrive/MyDrive/Documents/Learning/Data Analysis Using Python/datafiles\"\n",
        "#  # Clone Git files from repo datafiles"
      ]
    },
    {
      "cell_type": "code",
      "source": [
        "\n"
      ],
      "metadata": {
        "id": "ewWPqxzZD9sb"
      },
      "execution_count": null,
      "outputs": []
    }
  ]
}